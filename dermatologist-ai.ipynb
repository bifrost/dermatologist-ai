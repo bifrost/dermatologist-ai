{
 "cells": [
  {
   "cell_type": "markdown",
   "metadata": {},
   "source": [
    "### Create bottleneck features"
   ]
  },
  {
   "cell_type": "code",
   "execution_count": 7,
   "metadata": {},
   "outputs": [],
   "source": [
    "from keras.applications.resnet50 import ResNet50, preprocess_input\n",
    "from keras.preprocessing import image\n",
    "from tqdm import tqdm\n",
    "import numpy as np\n",
    "from keras.preprocessing.image import ImageDataGenerator\n",
    "\n",
    "modelTransfer = ResNet50(weights='imagenet', include_top=False)"
   ]
  },
  {
   "cell_type": "code",
   "execution_count": 2,
   "metadata": {},
   "outputs": [],
   "source": [
    "#modelTransfer.summary()\n",
    "#modelTransfer.layers[141]"
   ]
  },
  {
   "cell_type": "code",
   "execution_count": 3,
   "metadata": {},
   "outputs": [],
   "source": [
    "from keras.models import Model\n",
    "\n",
    "#inputs = modelTransfer.inputs\n",
    "#outputs = modelTransfer.layers[121].output\n",
    "#modelTransfer = Model(inputs=inputs, outputs=outputs)"
   ]
  },
  {
   "cell_type": "code",
   "execution_count": 10,
   "metadata": {},
   "outputs": [],
   "source": [
    "from matplotlib.pyplot import imshow\n",
    "\n",
    "ratio = 0.664179104477612\n",
    "target_width = 224\n",
    "target_size = (target_width, round(target_width/ratio))\n",
    "\n",
    "datagen_train = ImageDataGenerator(\n",
    "    width_shift_range=0.1,\n",
    "    height_shift_range=0.1,\n",
    "    rotation_range=30,\n",
    "    #zoom_range=0.1,\n",
    "    horizontal_flip=True,\n",
    "    vertical_flip=True\n",
    ")\n",
    "\n",
    "def path_to_bottleneck_feature(img_path, argument=0):\n",
    "    # loads RGB image as PIL.Image.Image type\n",
    "    img = image.load_img(img_path, target_size=target_size)\n",
    "   \n",
    "    # convert PIL.Image.Image type to 3D tensor\n",
    "    x = image.img_to_array(img)\n",
    "     \n",
    "    # convert 3D tensor to 4D tensor with shape (1, ?, ?, 3) and return 4D tensor\n",
    "    x = np.expand_dims(x, axis=0)\n",
    "    \n",
    "    # preprocess input\n",
    "    x = preprocess_input(x)\n",
    "    \n",
    "    if argument > 0:\n",
    "        ite = datagen_train.flow(x, [0])\n",
    "        argumented = [ite.next()[0] for i in range(argument)]\n",
    "        argumented.append(x)\n",
    "        argumented = np.vstack(argumented)\n",
    "        return modelTransfer.predict(argumented)\n",
    "\n",
    "    # prediction applied to one image at time to save memory (a batch imaplementation would have been more optimal)\n",
    "    return modelTransfer.predict(x)\n",
    "\n",
    "def paths_to_bottleneck_features(img_paths, argument=0):\n",
    "    bottleneck_features = []\n",
    "    paths = []\n",
    "    for img_path in tqdm(img_paths):\n",
    "        try:\n",
    "            bottleneck_features.append(path_to_bottleneck_feature(img_path, argument))\n",
    "            paths.append(img_path)\n",
    "        except OSError:\n",
    "            None \n",
    "            \n",
    "    return paths, np.vstack(bottleneck_features)"
   ]
  },
  {
   "cell_type": "code",
   "execution_count": 6,
   "metadata": {},
   "outputs": [],
   "source": [
    "#print(len(glob.glob(\"data/valid/melanoma/*.jpg\")))\n",
    "#print(len(glob.glob(\"data/valid/nevus/*.jpg\")))\n",
    "#print(len(glob.glob(\"data/valid/seborrheic_keratosis/*.jpg\")))"
   ]
  },
  {
   "cell_type": "code",
   "execution_count": 11,
   "metadata": {},
   "outputs": [
    {
     "name": "stderr",
     "output_type": "stream",
     "text": [
      "100%|██████████| 374/374 [03:36<00:00,  1.73it/s]\n",
      "100%|██████████| 1372/1372 [06:14<00:00,  3.67it/s]\n",
      "100%|██████████| 254/254 [04:03<00:00,  1.04it/s]\n",
      "100%|██████████| 30/30 [00:09<00:00,  3.15it/s]\n",
      "100%|██████████| 78/78 [00:16<00:00,  4.59it/s]\n",
      "100%|██████████| 42/42 [00:06<00:00,  6.43it/s]\n",
      "100%|██████████| 117/117 [00:36<00:00,  3.19it/s]\n",
      "100%|██████████| 393/393 [02:30<00:00,  2.62it/s]\n",
      "100%|██████████| 90/90 [00:12<00:00,  6.93it/s]\n"
     ]
    }
   ],
   "source": [
    "import glob\n",
    "import pickle\n",
    "\n",
    "datasets = ['test', 'train', 'valid']\n",
    "diagnoses = ['melanoma', 'nevus', 'seborrheic_keratosis']\n",
    "diagnose_to_index = {diagnoses[i]: i for i in range(len(diagnoses))}\n",
    "\n",
    "def get_bottleneck_feature(dataset, argument=[0,0,0]):\n",
    "    features = []\n",
    "    labels = []\n",
    "    img_paths = []\n",
    "    index = 0\n",
    "    for diagnose in diagnoses:\n",
    "        path = \"data/{}/{}/*.jpg\".format(dataset, diagnose)\n",
    "        paths = glob.glob(path)\n",
    "\n",
    "        paths, paths_features = paths_to_bottleneck_features(paths, argument[index])\n",
    "        index = index + 1\n",
    "        paths_labels = np.full(len(paths_features), diagnose_to_index[diagnose])\n",
    "        \n",
    "        features = paths_features if len(features) == 0 else np.concatenate([features, paths_features])\n",
    "        labels = paths_labels if len(labels) == 0 else np.concatenate([labels, paths_labels])\n",
    "        img_paths = paths if len(img_paths) == 0 else np.concatenate([img_paths, paths])\n",
    "\n",
    "    return features, labels, img_paths\n",
    "\n",
    "\n",
    "\n",
    "train_x, train_y, _ = get_bottleneck_feature('train', [29,10,49])\n",
    "valid_x, valid_y, _ = get_bottleneck_feature('valid')\n",
    "test_x, test_y, test_paths = get_bottleneck_feature('test')\n",
    "\n",
    "\n",
    "bottleneck_feature = {\n",
    "    'test_x': test_x,\n",
    "    'test_y': test_y,\n",
    "    'test_paths': test_paths,\n",
    "    'train_x': train_x,\n",
    "    'train_y': train_y,\n",
    "    'valid_x': valid_x,\n",
    "    'valid_y': valid_y\n",
    "}\n",
    "\n",
    "with open('models/bottleneck_feature.pickle', 'wb') as f:\n",
    "    pickle.dump(bottleneck_feature, f, pickle.HIGHEST_PROTOCOL)"
   ]
  },
  {
   "cell_type": "code",
   "execution_count": 12,
   "metadata": {},
   "outputs": [
    {
     "name": "stdout",
     "output_type": "stream",
     "text": [
      "(39012, 1, 1, 2048)\n",
      "(39012, 3)\n",
      "(150, 1, 1, 2048)\n",
      "(150, 3)\n",
      "(600, 1, 1, 2048)\n",
      "(600, 3)\n"
     ]
    }
   ],
   "source": [
    "from keras.utils import to_categorical\n",
    "import pickle\n",
    "\n",
    "with open('models/bottleneck_feature.pickle', 'rb') as f:\n",
    "    bottleneck_feature = pickle.load(f)\n",
    "    \n",
    "train_x = bottleneck_feature['train_x']\n",
    "train_y = to_categorical(bottleneck_feature['train_y'], 3)\n",
    "\n",
    "valid_x = bottleneck_feature['valid_x']\n",
    "valid_y = to_categorical(bottleneck_feature['valid_y'], 3)\n",
    "\n",
    "test_x = bottleneck_feature['test_x']\n",
    "test_y = to_categorical(bottleneck_feature['test_y'], 3)\n",
    "test_paths = bottleneck_feature['test_paths']\n",
    "\n",
    "print(train_x.shape)\n",
    "print(train_y.shape)\n",
    "print(valid_x.shape)\n",
    "print(valid_y.shape)\n",
    "print(test_x.shape)\n",
    "print(test_y.shape)"
   ]
  },
  {
   "cell_type": "code",
   "execution_count": 125,
   "metadata": {},
   "outputs": [
    {
     "name": "stdout",
     "output_type": "stream",
     "text": [
      "_________________________________________________________________\n",
      "Layer (type)                 Output Shape              Param #   \n",
      "=================================================================\n",
      "flatten_22 (Flatten)         (None, 2048)              0         \n",
      "_________________________________________________________________\n",
      "dense_64 (Dense)             (None, 3060)              6269940   \n",
      "_________________________________________________________________\n",
      "dense_65 (Dense)             (None, 3060)              9366660   \n",
      "_________________________________________________________________\n",
      "dense_66 (Dense)             (None, 3)                 9183      \n",
      "=================================================================\n",
      "Total params: 15,645,783\n",
      "Trainable params: 15,645,783\n",
      "Non-trainable params: 0\n",
      "_________________________________________________________________\n"
     ]
    }
   ],
   "source": [
    "# from keras.layers import GlobalAveragePooling2D, Flatten, Conv2D\n",
    "from keras.layers import Dropout, Dense, BatchNormalization\n",
    "from keras.models import Sequential\n",
    "from keras.initializers import TruncatedNormal\n",
    "from keras.regularizers import l1, l2\n",
    "\n",
    "model = Sequential()\n",
    "\n",
    "#model.add(Conv2D(1012, 3, 3, border_mode='same', input_shape=train_x.shape[1:]))\n",
    "#model.add(BatchNormalization())\n",
    "#model.add(Conv2D(2024, 3, 3, border_mode='same'))\n",
    "#model.add(GlobalAveragePooling2D())\n",
    "model.add(Flatten(input_shape=train_x.shape[1:]))\n",
    "#model.add(BatchNormalization(input_shape=train_x.shape[1:]))\n",
    "#model.add(GlobalAveragePooling2D(input_shape=train_x.shape[1:]))\n",
    "#model.add(Dropout(0.3))\n",
    "#model.add(BatchNormalization())\n",
    "#model.add(Dense(2048, activation='relu', kernel_initializer=TruncatedNormal(mean=0.0, stddev=0.0001, seed=None)))\n",
    "#model.add(Dense(2048, activation='relu'))\n",
    "#model.add(Dropout(0.2))\n",
    "#model.add(BatchNormalization())\n",
    "model.add(Dense(3060, activation='relu', kernel_regularizer=l2(0.02)))\n",
    "#model.add(BatchNormalization())\n",
    "model.add(Dense(3060, activation='relu', kernel_regularizer=l2(0.02)))\n",
    "#model.add(BatchNormalization())\n",
    "#model.add(Dense(2048, activation='relu', kernel_regularizer=l2(0.05)))\n",
    "#model.add(Dropout(0.2))\n",
    "#model.add(BatchNormalization())\n",
    "#model.add(Dense(2048, activation='relu'))\n",
    "#model.add(Dropout(0.2))\n",
    "#model.add(BatchNormalization())\n",
    "model.add(Dense(3, activation='softmax'))\n",
    "\n",
    "model.summary()"
   ]
  },
  {
   "cell_type": "code",
   "execution_count": 126,
   "metadata": {},
   "outputs": [],
   "source": [
    "from keras.optimizers import Adam, RMSprop, SGD\n",
    "optimizer = Adam(lr=0.001, beta_1=0.9, beta_2=0.999, epsilon=None, decay=0.005, amsgrad=False)\n",
    "#optimizer = RMSprop(lr=0.001, rho=0.9, epsilon=None, decay=0.005)\n",
    "#optimizer = SGD(lr=0.001, decay=0.00, momentum=0.9, nesterov=True)\n",
    "model.compile(loss='categorical_crossentropy', optimizer=optimizer, metrics=['accuracy'])"
   ]
  },
  {
   "cell_type": "code",
   "execution_count": 127,
   "metadata": {},
   "outputs": [
    {
     "name": "stdout",
     "output_type": "stream",
     "text": [
      "Train on 39012 samples, validate on 150 samples\n",
      "Epoch 1/8\n",
      "39012/39012 [==============================] - 24s 624us/step - loss: 1.8697 - acc: 0.7418 - val_loss: 0.7413 - val_acc: 0.7400\n",
      "\n",
      "Epoch 00001: val_loss improved from inf to 0.74127, saving model to models/weights.best.hdf5\n",
      "Epoch 2/8\n",
      "39012/39012 [==============================] - 22s 576us/step - loss: 0.5455 - acc: 0.8315 - val_loss: 0.7688 - val_acc: 0.7733\n",
      "\n",
      "Epoch 00002: val_loss did not improve\n",
      "Epoch 3/8\n",
      "39012/39012 [==============================] - 22s 574us/step - loss: 0.4752 - acc: 0.8723 - val_loss: 0.8146 - val_acc: 0.7667\n",
      "\n",
      "Epoch 00003: val_loss did not improve\n",
      "Epoch 4/8\n",
      "39012/39012 [==============================] - 22s 573us/step - loss: 0.4334 - acc: 0.8960 - val_loss: 0.8384 - val_acc: 0.7733\n",
      "\n",
      "Epoch 00004: val_loss did not improve\n",
      "Epoch 5/8\n",
      "39012/39012 [==============================] - 23s 580us/step - loss: 0.4048 - acc: 0.9108 - val_loss: 0.8362 - val_acc: 0.7533\n",
      "\n",
      "Epoch 00005: val_loss did not improve\n",
      "Epoch 6/8\n",
      "39012/39012 [==============================] - 22s 576us/step - loss: 0.3843 - acc: 0.9220 - val_loss: 0.8165 - val_acc: 0.8000\n",
      "\n",
      "Epoch 00006: val_loss did not improve\n",
      "Epoch 7/8\n",
      "39012/39012 [==============================] - 23s 579us/step - loss: 0.3669 - acc: 0.9304 - val_loss: 0.8074 - val_acc: 0.7867\n",
      "\n",
      "Epoch 00007: val_loss did not improve\n",
      "Epoch 8/8\n",
      "39012/39012 [==============================] - 23s 579us/step - loss: 0.3547 - acc: 0.9355 - val_loss: 0.8005 - val_acc: 0.7667\n",
      "\n",
      "Epoch 00008: val_loss did not improve\n"
     ]
    },
    {
     "data": {
      "text/plain": [
       "<keras.callbacks.History at 0x7f0cf4b99ba8>"
      ]
     },
     "execution_count": 127,
     "metadata": {},
     "output_type": "execute_result"
    }
   ],
   "source": [
    "# from keras.callbacks import ModelCheckpoint \n",
    "\n",
    "checkpointer = ModelCheckpoint(filepath='models/weights.best.hdf5', \n",
    "                               verbose=1, save_best_only=True)\n",
    "\n",
    "model.fit(train_x, train_y, \n",
    "          validation_data=(valid_x, valid_y),\n",
    "          epochs=8, batch_size=20, callbacks=[checkpointer], verbose=1)"
   ]
  },
  {
   "cell_type": "code",
   "execution_count": 128,
   "metadata": {},
   "outputs": [],
   "source": [
    "model.save_weights('models/weights.hdf5')"
   ]
  },
  {
   "cell_type": "code",
   "execution_count": 129,
   "metadata": {},
   "outputs": [
    {
     "name": "stdout",
     "output_type": "stream",
     "text": [
      "Test accuracy: 74.1667%\n"
     ]
    }
   ],
   "source": [
    "import numpy as np\n",
    "\n",
    "model.load_weights('models/weights.hdf5')\n",
    "\n",
    "predictions = [np.argmax(model.predict(np.expand_dims(feature, axis=0))) for feature in test_x]\n",
    "\n",
    "# report test accuracy\n",
    "test_accuracy = 100*np.sum(np.array(predictions)==np.argmax(test_y, axis=1))/len(predictions)\n",
    "print('Test accuracy: %.4f%%' % test_accuracy)"
   ]
  },
  {
   "cell_type": "code",
   "execution_count": 130,
   "metadata": {},
   "outputs": [],
   "source": [
    "import csv\n",
    "\n",
    "pred = model.predict(test_x)\n",
    "with open('sample_submission.csv', 'w') as f:\n",
    "    writer = csv.writer(f)\n",
    "    writer.writerow(['Id','task_1','task_2'])\n",
    "    for i in range(len(pred)): \n",
    "        writer.writerow([test_paths[i], pred[i,0], pred[i,2]])"
   ]
  },
  {
   "cell_type": "code",
   "execution_count": 136,
   "metadata": {},
   "outputs": [
    {
     "data": {
      "image/png": "[encoded data removed]",
      "text/plain": [
       "<Figure size 432x288 with 1 Axes>"
      ]
     },
     "metadata": {},
     "output_type": "display_data"
    },
    {
     "name": "stdout",
     "output_type": "stream",
     "text": [
      "Category 1 Score: 0.819\n",
      "Category 2 Score: 0.911\n",
      "Category 3 Score: 0.865\n"
     ]
    },
    {
     "data": {
      "image/png": "[encoded data removed]",
      "text/plain": [
       "<Figure size 432x288 with 2 Axes>"
      ]
     },
     "metadata": {},
     "output_type": "display_data"
    }
   ],
   "source": [
    "from get_results import plot_roc_auc, plot_confusion_matrix\n",
    "import pandas as pd\n",
    "\n",
    "thresh = 0.5\n",
    "    \n",
    "# get ground truth labels for test dataset\n",
    "truth = pd.read_csv('ground_truth.csv')\n",
    "y_true = truth.as_matrix(columns=[\"task_1\", \"task_2\"])\n",
    "\n",
    "# get model predictions for test dataset\n",
    "y_pred = pd.read_csv('sample_submission.csv')\n",
    "y_pred = y_pred.as_matrix(columns=[\"task_1\", \"task_2\"])\n",
    "\n",
    "# plot ROC curves and print scores\n",
    "plot_roc_auc(y_true, y_pred)\n",
    "# plot confusion matrix\n",
    "classes = ['benign', 'malignant']\n",
    "plot_confusion_matrix(y_true[:,0], y_pred[:,0], thresh, classes)"
   ]
  },
  {
   "cell_type": "code",
   "execution_count": null,
   "metadata": {},
   "outputs": [],
   "source": []
  }
 ],
 "metadata": {
  "kernelspec": {
   "display_name": "Python 3",
   "language": "python",
   "name": "python3"
  },
  "language_info": {
   "codemirror_mode": {
    "name": "ipython",
    "version": 3
   },
   "file_extension": ".py",
   "mimetype": "text/x-python",
   "name": "python",
   "nbconvert_exporter": "python",
   "pygments_lexer": "ipython3",
   "version": "3.6.4"
  }
 },
 "nbformat": 4,
 "nbformat_minor": 2
}
